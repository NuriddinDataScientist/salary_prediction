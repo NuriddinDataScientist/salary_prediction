{
 "cells": [
  {
   "cell_type": "code",
   "execution_count": 32,
   "id": "d74b5a72-f86b-4e94-99b8-2ecab5049bfa",
   "metadata": {},
   "outputs": [],
   "source": [
    "import pandas as pd  # Importing the pandas library for data manipulation and analysis\n",
    "from sklearn.preprocessing import LabelEncoder  # Importing LabelEncoder for converting categorical labels to numeric values\n",
    "from sklearn.model_selection import train_test_split  # Importing train_test_split for splitting data into training and testing sets\n",
    "from sklearn.tree import DecisionTreeClassifier  # Importing DecisionTreeClassifier for decision tree algorithms\n",
    "from sklearn.metrics import classification_report  # Importing classification_report for model evaluation"
   ]
  },
  {
   "cell_type": "code",
   "execution_count": 34,
   "id": "4a4b7818-0235-45e6-bece-3c0e92db94fd",
   "metadata": {},
   "outputs": [],
   "source": [
    "def preprocess_data(file_path: str) -> tuple[pd.DataFrame, pd.Series]:\n",
    "    \"\"\"\n",
    "    Loads and preprocesses the data from an Excel file.\n",
    "    \n",
    "    Args:\n",
    "    file_path (str): The path to the Excel file containing the dataset.\n",
    "    \n",
    "    Returns:\n",
    "    tuple: A tuple containing the processed input features and the target variable.\n",
    "    \"\"\"\n",
    "    df = pd.read_excel(file_path)\n",
    "    inputs = df.drop('salary_more_than_100k', axis='columns')\n",
    "    target = df['salary_more_than_100k']\n",
    "    \n",
    "    le_company = LabelEncoder()\n",
    "    le_job = LabelEncoder()\n",
    "    le_degree = LabelEncoder()\n",
    "\n",
    "    inputs['company_n'] = le_company.fit_transform(inputs['company'])\n",
    "    inputs['job_n'] = le_job.fit_transform(inputs['job'])\n",
    "    inputs['degree_n'] = le_degree.fit_transform(inputs['degree'])\n",
    "\n",
    "    inputs_n = inputs[['company_n', 'job_n', 'degree_n']]\n",
    "    \n",
    "    return inputs_n, target"
   ]
  },
  {
   "cell_type": "code",
   "execution_count": 36,
   "id": "d70357a4-f5a5-453d-84b2-36ff70655051",
   "metadata": {},
   "outputs": [],
   "source": [
    "  \n",
    "def train_model(inputs: pd.DataFrame, target: pd.Series) -> DecisionTreeClassifier:\n",
    "    \"\"\"\n",
    "    Trains a Decision Tree model on the provided input features and target variable.\n",
    "    \n",
    "    Args:\n",
    "    inputs (pd.DataFrame): The input features for training.\n",
    "    target (pd.Series): The target variable for training.\n",
    "    \n",
    "    Returns:\n",
    "    DecisionTreeClassifier: The trained decision tree model.\n",
    "    \"\"\"\n",
    "    x_train, x_test, y_train, y_test = train_test_split(inputs, target, test_size=0.2, random_state=42)\n",
    "    \n",
    "    model = DecisionTreeClassifier()\n",
    "    model.fit(x_train, y_train)\n",
    "    \n",
    "    print('Model score:', model.score(x_test, y_test))\n",
    "    \n",
    "    return model, x_test, y_test"
   ]
  },
  {
   "cell_type": "code",
   "execution_count": null,
   "id": "f0335284-de2d-489c-8e00-bb8d3cefd907",
   "metadata": {},
   "outputs": [],
   "source": []
  },
  {
   "cell_type": "code",
   "execution_count": 39,
   "id": "55c7d6fc-950b-4af6-9ab6-4431ae996eb4",
   "metadata": {},
   "outputs": [],
   "source": [
    "def make_prediction(model: DecisionTreeClassifier, input_data: pd.DataFrame) -> int:\n",
    "    \"\"\"\n",
    "    Makes a prediction using the trained model.\n",
    "    \n",
    "    Args:\n",
    "    model (DecisionTreeClassifier): The trained decision tree model.\n",
    "    input_data (pd.DataFrame): The input data for prediction, must have the same feature names as the training data.\n",
    "    \n",
    "    Returns:\n",
    "    int: The predicted class label.\n",
    "    \"\"\"\n",
    "    prediction = model.predict(input_data)\n",
    "    return prediction[0]"
   ]
  },
  {
   "cell_type": "code",
   "execution_count": 41,
   "id": "0c574bff-36a9-4904-ae22-d2cb2f7f532b",
   "metadata": {},
   "outputs": [
    {
     "name": "stdout",
     "output_type": "stream",
     "text": [
      "Model score: 0.75\n",
      "Prediction for input [2 1 0]: 0\n",
      "              precision    recall  f1-score   support\n",
      "\n",
      "           0       0.67      1.00      0.80         2\n",
      "           1       1.00      0.50      0.67         2\n",
      "\n",
      "    accuracy                           0.75         4\n",
      "   macro avg       0.83      0.75      0.73         4\n",
      "weighted avg       0.83      0.75      0.73         4\n",
      "\n"
     ]
    }
   ],
   "source": [
    "# Main execution\n",
    "inputs_n, target = preprocess_data('company_salary.xlsx')\n",
    "model, x_test, y_test = train_model(inputs_n, target)\n",
    "\n",
    "# Prepare input for prediction as a DataFrame\n",
    "input_example = pd.DataFrame([[2, 1, 0]], columns=['company_n', 'job_n', 'degree_n'])\n",
    "prediction = make_prediction(model, input_example)\n",
    "print(f\"Prediction for input {input_example.values[0]}:\", prediction)\n",
    "\n",
    "# Evaluate model\n",
    "report = classification_report(y_test, model.predict(x_test))\n",
    "print(report)"
   ]
  },
  {
   "cell_type": "code",
   "execution_count": null,
   "id": "f5b6cfa0-a160-47b5-8a87-d66b62ec212c",
   "metadata": {},
   "outputs": [],
   "source": []
  }
 ],
 "metadata": {
  "kernelspec": {
   "display_name": "Anaconda",
   "language": "python",
   "name": "base"
  },
  "language_info": {
   "codemirror_mode": {
    "name": "ipython",
    "version": 3
   },
   "file_extension": ".py",
   "mimetype": "text/x-python",
   "name": "python",
   "nbconvert_exporter": "python",
   "pygments_lexer": "ipython3",
   "version": "3.11.7"
  }
 },
 "nbformat": 4,
 "nbformat_minor": 5
}
