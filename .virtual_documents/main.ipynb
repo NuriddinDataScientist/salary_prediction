import pandas as pd  # Importing the pandas library for data manipulation and analysis
from sklearn.preprocessing import LabelEncoder  # Importing LabelEncoder for converting categorical labels to numeric values
from sklearn.model_selection import train_test_split  # Importing train_test_split for splitting data into training and testing sets
from sklearn.tree import DecisionTreeClassifier  # Importing DecisionTreeClassifier for decision tree algorithms
from sklearn.metrics import classification_report  # Importing classification_report for model evaluation


def preprocess_data(file_path: str) -> tuple[pd.DataFrame, pd.Series]:
    """
    Loads and preprocesses the data from an Excel file.
    
    Args:
    file_path (str): The path to the Excel file containing the dataset.
    
    Returns:
    tuple: A tuple containing the processed input features and the target variable.
    """
    df = pd.read_excel(file_path)
    inputs = df.drop('salary_more_than_100k', axis='columns')
    target = df['salary_more_than_100k']
    
    le_company = LabelEncoder()
    le_job = LabelEncoder()
    le_degree = LabelEncoder()

    inputs['company_n'] = le_company.fit_transform(inputs['company'])
    inputs['job_n'] = le_job.fit_transform(inputs['job'])
    inputs['degree_n'] = le_degree.fit_transform(inputs['degree'])

    inputs_n = inputs[['company_n', 'job_n', 'degree_n']]
    
    return inputs_n, target


  
def train_model(inputs: pd.DataFrame, target: pd.Series) -> DecisionTreeClassifier:
    """
    Trains a Decision Tree model on the provided input features and target variable.
    
    Args:
    inputs (pd.DataFrame): The input features for training.
    target (pd.Series): The target variable for training.
    
    Returns:
    DecisionTreeClassifier: The trained decision tree model.
    """
    x_train, x_test, y_train, y_test = train_test_split(inputs, target, test_size=0.2, random_state=42)
    
    model = DecisionTreeClassifier()
    model.fit(x_train, y_train)
    
    print('Model score:', model.score(x_test, y_test))
    
    return model, x_test, y_test





def make_prediction(model: DecisionTreeClassifier, input_data: pd.DataFrame) -> int:
    """
    Makes a prediction using the trained model.
    
    Args:
    model (DecisionTreeClassifier): The trained decision tree model.
    input_data (pd.DataFrame): The input data for prediction, must have the same feature names as the training data.
    
    Returns:
    int: The predicted class label.
    """
    prediction = model.predict(input_data)
    return prediction[0]


# Main execution
inputs_n, target = preprocess_data('company_salary.xlsx')
model, x_test, y_test = train_model(inputs_n, target)

# Prepare input for prediction as a DataFrame
input_example = pd.DataFrame([[2, 1, 0]], columns=['company_n', 'job_n', 'degree_n'])
prediction = make_prediction(model, input_example)
print(f"Prediction for input {input_example.values[0]}:", prediction)

# Evaluate model
report = classification_report(y_test, model.predict(x_test))
print(report)



